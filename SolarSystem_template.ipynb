{
 "cells": [
  {
   "cell_type": "markdown",
   "metadata": {},
   "source": [
    "# The Coordinates of Solar System Objects"
   ]
  },
  {
   "cell_type": "markdown",
   "metadata": {},
   "source": [
    "## Learning goals\n",
    "The purpose of this noteobok is to familiarize yourself with the using astropy to compute coordinate positions and conversions of solar system objects relative to the Galaxy/Milky Way\n",
    "\n",
    "We will start by loading in the nessisary libraries. Inside the libraries exists defintions (functions) that allow us to carry out what we want the code to do. \n",
    "\n",
    "\n",
    "Lets begin!\n",
    "\n",
    "DATA LOCATION : high_quality_gaia.fits [50 MB] = astrometry, photometry for 500,000+ random milky way stars with uncertainties in parallax better than 1%. Data location : https://utexas.box.com/s/xcagl9mx1pe71qniomv2slwpxhgd88hz\n",
    "\n",
    "\n"
   ]
  },
  {
   "cell_type": "markdown",
   "metadata": {},
   "source": [
    "## Pick a Solar System object, google its Ecliptic or Equatorial Coordinates, \n",
    "\n",
    "It can be any solar system object but be creative! "
   ]
  },
  {
   "cell_type": "code",
   "execution_count": 1,
   "metadata": {},
   "outputs": [],
   "source": [
    "#Import coordinates and units packages\n",
    "from astropy.coordinates import SkyCoord\n",
    "import numpy as np\n",
    "import astropy.units as u\n",
    "import matplotlib.pyplot as p\n",
    "from astropy.table import Table\n",
    "#Enable interactive plots within the notebook\n",
    "%matplotlib widget\n",
    "\n",
    "#styling plots \n",
    "#Lets set some of the default parameters for plotting. This cell is not needed but i like to style my plots.\n",
    "#p.rc('axes',prop_cycle=(cycler('color', ['k','b','g','r','c','m','y'])))\n",
    "p.rcParams['lines.linewidth']= 1.5\n",
    "p.rcParams['axes.linewidth']=2.0\n",
    "p.rcParams['font.size']= 15.0\n",
    "p.rcParams['axes.labelsize']=16.0\n",
    "p.rcParams['axes.unicode_minus']=False\n",
    "p.rcParams['xtick.major.size']=6\n",
    "p.rcParams['xtick.minor.size']=3\n",
    "p.rcParams['xtick.major.width']=1.5#2.0\n",
    "p.rcParams['xtick.minor.width']=1.0\n",
    "p.rcParams['axes.linewidth']=2.5\n",
    "p.rcParams['axes.titlesize']=20#'large'\n",
    "p.rcParams['xtick.labelsize'] = 20#'x-large' # fontsize of the tick labels\n",
    "p.rcParams['ytick.labelsize']=20 #'x-large'\n",
    "p.rcParams['ytick.major.width']=2.0 #4\n",
    "p.rcParams['ytick.minor.width']=1.0 #2.0\n",
    "#--- added ONLY if you have LATEX installed otherwise comment out this-----\n",
    "p.rcParams['text.usetex']= True\n",
    "p.rcParams['mathtext.fontset']= 'custom'\n",
    "p.rcParams['mathtext.default']= 'rm'\n",
    "p.rcParams['axes.formatter.use_mathtext']=False\n",
    "#-----------------------------------------------"
   ]
  },
  {
   "cell_type": "code",
   "execution_count": 2,
   "metadata": {},
   "outputs": [],
   "source": [
    "#Make an object for solar system object coordinates using the SkyCoord package\n",
    "#Can input in Sexigesimal hours and degrees as a string\n"
   ]
  },
  {
   "cell_type": "code",
   "execution_count": 3,
   "metadata": {},
   "outputs": [],
   "source": [
    "#Print  to check it out in decimal degrees\n"
   ]
  },
  {
   "cell_type": "code",
   "execution_count": 4,
   "metadata": {},
   "outputs": [],
   "source": [
    "#Now I would like to convert these to the Galactic coordinate system.  I can also do this using SkyCoord!\n"
   ]
  },
  {
   "cell_type": "markdown",
   "metadata": {},
   "source": [
    "#### So, the Galactic coordinates for Quaoar (at least in June 2018) are: l=13.881855 deg, b=3.210145 deg"
   ]
  },
  {
   "cell_type": "code",
   "execution_count": 5,
   "metadata": {},
   "outputs": [],
   "source": [
    "#Just for fun.  Lets check out the ecliptic coordinates.  \n",
    "#SkyCoord can handle a few different types of Ecliptic, but lets use BarycentricTrueEcliptic, as it has the same\n",
    "#origin (Solar System Barycenter) as the ICRS Equatorial systems, so causes less headaches\n"
   ]
  },
  {
   "cell_type": "markdown",
   "metadata": {},
   "source": [
    "What do you notice about the objects Ecliptic coordinates\n",
    "\n",
    "Let's put its position on the board, but before we do that lets make a plot in this notebook of its location in the Galactic coordinates and also plot the ecliptic! "
   ]
  },
  {
   "cell_type": "markdown",
   "metadata": {},
   "source": [
    "## Plot the location of your choosen solar system object in Galactic coordinates \n",
    "\n",
    "To create your plot: \n",
    "1. Read in the  high_quality_gaia.fits table which contains the Gaia information for 500,000 random stars with parallax better than 1%\n",
    "2. Explore the columns of the high_quality_gaia table to select the Galactic long,latitude.\n",
    "3. Plot the number density of the 500,000 random stars in Galactic coordinates\n",
    "4. Plot your choosen solar system object on the same plot\n",
    "5. NOTE : Dont forget to \"wrap\" the Galactic longitudes that come out Galactic_latitude.l.wrap_at('180d'), this will make the range -180 to 180 in latitutde instead of 0 to 360\n",
    "\n",
    "To plot the the ecliptic you will need to :\n",
    "1. Create an array of ecliptic coordinates where you have sampled the eclipitic longitutde in b/w 0-360 and the ecliptic latitude only at  = 0 deg (why?)\n",
    "2. Dont forget to \"wrap\" the Galactic longitudes that come out ecliptitic_latitude.l.wrap_at('180d'), this will make the range -180 to 180 in latitutde instead of 0 to 360\n",
    "\n",
    "NOTE : DO NOT forget to label your figure correctly (with units and legends \n"
   ]
  },
  {
   "cell_type": "code",
   "execution_count": 8,
   "metadata": {},
   "outputs": [],
   "source": [
    "#Put your answer here\n",
    "\n"
   ]
  },
  {
   "cell_type": "markdown",
   "metadata": {},
   "source": [
    "## Now, pick your own object.  Find its equatorial coordinates, and write code to convert them to Galactic Coordinates.\n",
    "### When you have your answer, go draw an \"x\" on the board, and label your object."
   ]
  },
  {
   "cell_type": "code",
   "execution_count": null,
   "metadata": {},
   "outputs": [],
   "source": []
  }
 ],
 "metadata": {
  "kernelspec": {
   "display_name": "Python 3 (ipykernel)",
   "language": "python",
   "name": "python3"
  },
  "language_info": {
   "codemirror_mode": {
    "name": "ipython",
    "version": 3
   },
   "file_extension": ".py",
   "mimetype": "text/x-python",
   "name": "python",
   "nbconvert_exporter": "python",
   "pygments_lexer": "ipython3",
   "version": "3.8.8"
  }
 },
 "nbformat": 4,
 "nbformat_minor": 4
}
