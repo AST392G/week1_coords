{
 "cells": [
  {
   "cell_type": "markdown",
   "metadata": {},
   "source": [
    "# Starter code for measuring angular separations on the sky\n",
    "\n",
    "## Learning goals\n",
    "The purpose of this noteobok is to familiarize yourself with the using astropy to compute angular seperaitons/distances between objects in the night sky! \n",
    "\n",
    "We will start by loading in the nessisary libraries. Inside the libraries exists defintions (functions) that allow us to carry out what we want the code to do. \n",
    "\n",
    "\n",
    "Lets begin!\n",
    "\n",
    "DATA LOCATION : None\n",
    "\n",
    "\n"
   ]
  },
  {
   "cell_type": "markdown",
   "metadata": {},
   "source": [
    "## import packages"
   ]
  },
  {
   "cell_type": "code",
   "execution_count": 8,
   "metadata": {},
   "outputs": [],
   "source": [
    "#Import needed packages\n",
    "import numpy as np\n",
    "from astropy import units as u\n",
    "from astropy.coordinates import SkyCoord"
   ]
  },
  {
   "cell_type": "markdown",
   "metadata": {},
   "source": [
    "# Angular Seperation : An Example"
   ]
  },
  {
   "cell_type": "code",
   "execution_count": 9,
   "metadata": {},
   "outputs": [],
   "source": [
    "#Set up SkyCoord objects for two stars\n",
    "betelgeuse=SkyCoord('5h55m10.0s','+7d24m26s', frame='icrs')\n",
    "sirius=SkyCoord('6h45m9.0s','-16d42m58s', frame='icrs')"
   ]
  },
  {
   "cell_type": "code",
   "execution_count": 10,
   "metadata": {},
   "outputs": [],
   "source": [
    "#Define variable \"sep\" as the separation between these two stars\n",
    "#Use the SkyCoord separation routine, which uses the Vincenty formula (more accurate than Haversine)\n",
    "sep=betelgeuse.separation(sirius)"
   ]
  },
  {
   "cell_type": "code",
   "execution_count": 11,
   "metadata": {},
   "outputs": [
    {
     "data": {
      "text/plain": [
       "27.10539461927353"
      ]
     },
     "execution_count": 11,
     "metadata": {},
     "output_type": "execute_result"
    }
   ],
   "source": [
    "#Print separation in degrees\n",
    "sep.deg"
   ]
  },
  {
   "cell_type": "code",
   "execution_count": 12,
   "metadata": {},
   "outputs": [
    {
     "data": {
      "text/plain": [
       "1626.3236771564118"
      ]
     },
     "execution_count": 12,
     "metadata": {},
     "output_type": "execute_result"
    }
   ],
   "source": [
    "#Print separation in arcminutes\n",
    "sep.arcmin"
   ]
  },
  {
   "cell_type": "code",
   "execution_count": 13,
   "metadata": {},
   "outputs": [
    {
     "data": {
      "text/plain": [
       "97579.42062938471"
      ]
     },
     "execution_count": 13,
     "metadata": {},
     "output_type": "execute_result"
    }
   ],
   "source": [
    "#Print separation in arcseconds\n",
    "sep.arcsec"
   ]
  },
  {
   "cell_type": "markdown",
   "metadata": {},
   "source": [
    "# Angular Seperation : You Try Polaris and Aldebreran \n",
    "\n",
    "Please calculate the distance between Polaris and Aldeberan in deg, archmin, and arcsec and answer the following question\n",
    "\n",
    "If you have a 40' Field of View could you see these two objects in a single image?"
   ]
  },
  {
   "cell_type": "code",
   "execution_count": 26,
   "metadata": {},
   "outputs": [],
   "source": [
    "#answer here\n",
    "\n"
   ]
  },
  {
   "cell_type": "markdown",
   "metadata": {},
   "source": [
    "# Angular Seperation : You Try, the bright or faint moon ? \n",
    "\n",
    "Lets say you want to observe an object that is relativley blue and faint while the moon is still up!  \n",
    "\n",
    "More specifically, lets say you want to observe the Galaxy M31 nearly when it transits early in the morning at 4:30 am Local Austin Time on the night of August 23, 2024. You should use https://theskylive.com/where-is-moon to compute the ephemeris of the Moon at the correct time. \n",
    "\n",
    "Will the moon be at least 40 degrees away from M31 ensuring it can be observed comfortably? \n"
   ]
  },
  {
   "cell_type": "code",
   "execution_count": 25,
   "metadata": {},
   "outputs": [],
   "source": [
    "#answer goes here\n",
    "\n"
   ]
  },
  {
   "cell_type": "code",
   "execution_count": null,
   "metadata": {},
   "outputs": [],
   "source": []
  }
 ],
 "metadata": {
  "kernelspec": {
   "display_name": "Python 3 (ipykernel)",
   "language": "python",
   "name": "python3"
  },
  "language_info": {
   "codemirror_mode": {
    "name": "ipython",
    "version": 3
   },
   "file_extension": ".py",
   "mimetype": "text/x-python",
   "name": "python",
   "nbconvert_exporter": "python",
   "pygments_lexer": "ipython3",
   "version": "3.8.8"
  }
 },
 "nbformat": 4,
 "nbformat_minor": 4
}
